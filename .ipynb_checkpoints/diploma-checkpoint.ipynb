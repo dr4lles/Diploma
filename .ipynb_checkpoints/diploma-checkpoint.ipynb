{
 "cells": [
  {
   "cell_type": "code",
   "execution_count": 2,
   "metadata": {},
   "outputs": [],
   "source": [
    "import neal\n",
    "import matplotlib.pyplot as plt\n",
    "from sympy import Matrix, zeros, ones, eye\n",
    "from scipy import optimize \n",
    "from random import randint\n",
    "from math import log2"
   ]
  },
  {
   "cell_type": "code",
   "execution_count": 68,
   "metadata": {},
   "outputs": [],
   "source": [
    "class SympyMatrixFactory(object):\n",
    "    \n",
    "    def getMatrix(self, data):\n",
    "        return Matrix(data)\n",
    "    \n",
    "    def getOnes(self, n, k):\n",
    "        return ones(n, k)\n",
    "    \n",
    "    def getZeros(self, n, k):\n",
    "        return zeros(n, k)\n",
    "    \n",
    "    def getEye(self, n):\n",
    "        return eye(n)\n",
    "\n",
    "class VariableChanger(object):\n",
    "    \n",
    "    def __init__(self, B, t, gamma=1, matrixFactory=SympyMatrixFactory()):\n",
    "        self.B = B\n",
    "        self.t = t\n",
    "        self.matrixFactory = matrixFactory\n",
    "        self.n = B.shape[0]\n",
    "        self.k = int(log2(2 * gamma * self.n**(1/2) * abs(B.det())**(1/self.n) + sum(abs(t[i]) for i in range(self.n))))\n",
    "        self.T = self.__create_transition_matrix(self.n, self.k)\n",
    "        self.d = 2**self.k * self.matrixFactory.getOnes(self.n, 1)\n",
    "        \n",
    "    def __create_transition_matrix(self, n, k):\n",
    "        data = [[0 for i in range((self.k + 1)*self.n)] for j in range(self.n)]\n",
    "        T = self.matrixFactory.getMatrix(data)\n",
    "        for i in range(self.n):\n",
    "            T[i, i*(self.k+1):i*(self.k+1)+self.k+1] = self.matrixFactory.getMatrix([[2**j for j in range(self.k+1)]])\n",
    "        \n",
    "        return T\n",
    "    \n",
    "    \"\"\"Computing quadratic form's coefficients in QUBO variables\"\"\"\n",
    "    def change_quadratic_form(self):\n",
    "        quadratic_part = self.T.T @ self.B.T @ self.B @ self.T\n",
    "        linear_part = -2 * self.d.T @ self.B.T @ self.B @ self.T - 2 * self.t.T @ self.B @ self.T\n",
    "        const = self.d.T @ self.B.T @ self.B @ self.d + 2 * self.d.T @ self.B.T @ self.t + self.t.T @ self.t\n",
    "        \n",
    "        return quadratic_part, linear_part, const[0]\n",
    "    \n",
    "    \"\"\"Going from integer variables to QUBO ones\"\"\"\n",
    "    def straight_change_variables(self, x):\n",
    "        res = self.matrixFactory.getZeros(self.n*(self.k + 1), 1)\n",
    "        \n",
    "        for i in range(len(x)):\n",
    "            bin_repr = list(bin(x[i] + 2**self.k)[2:].zfill(self.k+1)[::-1])\n",
    "            bin_repr = list(map(lambda el: [int(el)], bin_repr))\n",
    "            res[(self.k+1)*i:(self.k+1)*(i+1), 0] = bin_repr\n",
    "        \n",
    "        return res\n",
    "    \n",
    "    \"\"\"Going from QUBO variables to integer ones\"\"\"\n",
    "    def backward_change_variables(self, x):\n",
    "        return self.T@x - self.d\n",
    "    \n",
    "def compute_form(Q, L, C, x):\n",
    "    return (x.T@Q@x)[0] + (L@x)[0] + C"
   ]
  },
  {
   "cell_type": "code",
   "execution_count": 4,
   "metadata": {},
   "outputs": [
    {
     "name": "stdout",
     "output_type": "stream",
     "text": [
      "True\n",
      "True\n",
      "True\n"
     ]
    }
   ],
   "source": [
    "\"\"\"Tests for VariableChanger class\"\"\"\n",
    "n = 5\n",
    "N = 16\n",
    "B = Matrix([[randint(-2**(N-1), 2**(N-1)-1) for _ in range(n)] for _ in range(n)], dtype=object)\n",
    "t = Matrix([[randint(-2**(N-1), 2**(N-1)-1)] for _ in range(n)])\n",
    "var_changer = VariableChanger(B, t)\n",
    "\n",
    "\"\"\"Test for variable changing methods\"\"\"\n",
    "x = Matrix([[randint(-2**(N-1), 2**(N-1)-1)] for _ in range(n)])\n",
    "x1 = var_changer.straight_change_variables(x)\n",
    "print(x == var_changer.backward_change_variables(x1))\n",
    "\n",
    "\"\"\"Test for quadratic form's coefficients computing method\"\"\"\n",
    "q, l, c = var_changer.change_quadratic_form()\n",
    "norm1 = compute_form(B.T@B, -2*t.T@B, (t.T@t)[0], x)\n",
    "norm2 = compute_form(q, l, c, x1)\n",
    "norm3 = (B@x - t).dot(B@x - t)\n",
    "print(norm1 == norm2)\n",
    "print(norm2 == norm3)"
   ]
  },
  {
   "cell_type": "code",
   "execution_count": 29,
   "metadata": {},
   "outputs": [],
   "source": [
    "class VectorSet(object):\n",
    "    \n",
    "    def __init__(self, norm, vectors, prob):\n",
    "        self.norm = norm\n",
    "        self.vectors = vectors\n",
    "        self.prob = prob\n",
    "        \n",
    "class Solver(object):\n",
    "    \n",
    "    def __init__(self, B, t, gamma=1, matrix_factory=SympyMatrixFactory(), sampler=neal.SimulatedAnnealingSampler()):\n",
    "        self.B, self.t = B, t\n",
    "        self.matrix_factory = matrix_factory\n",
    "        self.var_changer = VariableChanger(B, t, gamma, matrix_factory)\n",
    "        self.sampler = sampler\n",
    "        \n",
    "    def __norm(self, x):\n",
    "        return ((self.B@x - self.t).T @ (self.B@x - self.t))[0]\n",
    "        \n",
    "    def __generate_qubo_input(self, quadratic, linear):\n",
    "        Q = {}\n",
    "    \n",
    "        for i in range(quadratic.shape[0]):\n",
    "            for j in range(i, quadratic.shape[1]):\n",
    "                tmp = (f\"x_{i}\", f\"x_{j}\")\n",
    "                Q[tmp] = int(quadratic[i, j] + linear[i]) if i == j else int(2*quadratic[i, j])\n",
    "            \n",
    "        return Q\n",
    "\n",
    "    def __dict_to_vector(self, vec_repr):\n",
    "        vec = self.matrix_factory.getZeros(len(vec_repr), 1)\n",
    "        \n",
    "        for record in list(vec_repr.items()):\n",
    "            vec[int(record[0][2:])] = record[1]\n",
    "            \n",
    "        return vec\n",
    "    \n",
    "    def __interpret_qubo_output(self, sampleset, const, num_reads):\n",
    "        res = {}\n",
    "    \n",
    "        for sample in sampleset.data():\n",
    "            x = self.var_changer.backward_change_variables(self.__dict_to_vector(sample.sample))\n",
    "            val = self.__norm(x)\n",
    "        \n",
    "            if val in res:\n",
    "                res[val][0].append(x)\n",
    "                res[val][1] += 1/num_reads\n",
    "            else:\n",
    "                res[val] = [[x], 1/num_reads]\n",
    "        \n",
    "        return list(map(lambda x: VectorSet(x[0], x[1][0], x[1][1]), res.items()))\n",
    "    \n",
    "    def solve(self, annealing_time, num_reads):\n",
    "        q, l, c = self.var_changer.change_quadratic_form()\n",
    "        Q = self.__generate_qubo_input(q, l)\n",
    "\n",
    "        self.sampler.annealing_time=annealing_time\n",
    "        sampleset = self.sampler.sample_qubo(Q, num_reads=num_reads)\n",
    "        \n",
    "        return self.__interpret_qubo_output(sampleset, c, num_reads)"
   ]
  },
  {
   "cell_type": "code",
   "execution_count": 125,
   "metadata": {},
   "outputs": [],
   "source": [
    "class LatticeFactory(object):\n",
    "    \n",
    "    def __init__(self, matrix_factory=SympyMatrixFactory()):\n",
    "        self.matrix_factory = matrix_factory\n",
    "        \n",
    "    def get_lattice(self, dim, bit_length):\n",
    "        B = self.matrix_factory.getEye(dim)\n",
    "        k = dim - 1\n",
    "        bound = 2**bit_length\n",
    "        \n",
    "        while k >= 0:\n",
    "            B[k, dim - 1] = randint(2**(bit_length-1), bound)\n",
    "            bound = B[k, dim - 1]\n",
    "            k -= 1\n",
    "            \n",
    "        return B.T\n",
    "    \n",
    "    def get_vector(self, dim, bit_length):\n",
    "        return self.matrix_factory.getMatrix([[randint(-2**bit_length, 2**bit_length - 1)] for _ in range(dim)])\n",
    "    \n",
    "    def get_zero_vector(self, dim):\n",
    "        return self.matrix_factory.getMatrix([[0] for _ in range(dim)])"
   ]
  },
  {
   "cell_type": "code",
   "execution_count": 105,
   "metadata": {},
   "outputs": [],
   "source": [
    "\"\"\"Class computes probabilities of ground and first two energy states\"\"\"\n",
    "class TestInteractor(object):\n",
    "    \n",
    "    def __init__(self, B, t, sampler):\n",
    "        self.B = B\n",
    "        self.t = t\n",
    "        self.sampler = sampler\n",
    "        self.first_min = []\n",
    "        self.second_min = []\n",
    "        self.third_min = []\n",
    "        self.T = []\n",
    "        \n",
    "    def compute_probabilities(self, time_bounds, num_reads):\n",
    "        self.first_min.clear()\n",
    "        self.second_min.clear()\n",
    "        self.third_min.clear()\n",
    "        self.T.clear()\n",
    "\n",
    "        for i in range(time_bounds[0], time_bounds[1]+1):\n",
    "            solver = Solver(B, t, 1)\n",
    "            res = solver.solve(2**i, num_reads)\n",
    "            res.sort(key=lambda x: x.norm)\n",
    "            self.T.append(2**i)\n",
    "            self.first_min.append(res[0].prob)\n",
    "            self.second_min.append(res[1].prob)\n",
    "            self.third_min.append(res[2].prob)\n",
    "            print(f\"annealing time = {2**i} is done\")\n",
    "            \n",
    "        return self.T, self.first_min, self.second_min, self.third_min\n",
    "    \n",
    "    def show_plot(self, show=True, image_name=None, legend_loc=\"best\", xlim=None, ylim=None):\n",
    "        plt.clf()\n",
    "        plt.xscale(\"log\", base=2)\n",
    "        \n",
    "        if ylim is not None:\n",
    "            plt.ylim(ylim)\n",
    "        if xlim is not None:\n",
    "            plt.xlim(xlim)\n",
    "            \n",
    "        plt.plot(T, first_min, \".r-\", label=r\"ground state\")\n",
    "        plt.plot(T, second_min, \".b-\", label=r\"first energy level\")\n",
    "        plt.plot(T, third_min, \".g-\", label=r\"second energy level\")\n",
    "        plt.legend(loc=legend_loc)\n",
    "        \n",
    "        if image_name is not None:\n",
    "            plt.savefig(image_name, dpi=300, bbox_inches='tight')\n",
    "        if show:\n",
    "            plt.show()"
   ]
  },
  {
   "cell_type": "code",
   "execution_count": 138,
   "metadata": {},
   "outputs": [
    {
     "name": "stdout",
     "output_type": "stream",
     "text": [
      "Matrix([[1, 0, 0], [0, 1, 0], [9, 13, 14]])\n",
      "Matrix([[0], [0], [0]])\n"
     ]
    }
   ],
   "source": [
    "lattice_factory = LatticeFactory()\n",
    "B = lattice_factory.get_lattice(3, 4)\n",
    "t = lattice_factory.get_zero_vector(3)\n",
    "print(B)\n",
    "print(t)"
   ]
  },
  {
   "cell_type": "code",
   "execution_count": 141,
   "metadata": {},
   "outputs": [
    {
     "name": "stdout",
     "output_type": "stream",
     "text": [
      "annealing time = 4 is done\n",
      "annealing time = 8 is done\n",
      "annealing time = 16 is done\n",
      "annealing time = 32 is done\n",
      "annealing time = 64 is done\n",
      "annealing time = 128 is done\n",
      "annealing time = 256 is done\n",
      "annealing time = 512 is done\n",
      "annealing time = 1024 is done\n",
      "annealing time = 2048 is done\n",
      "annealing time = 4096 is done\n"
     ]
    }
   ],
   "source": [
    "simulated_test_interactor = TestInteractor(B, t, neal.SimulatedAnnealingSampler())\n",
    "T, first_min, second_min, third_min = simulated_test_interactor.compute_probabilities((2, 12), 10000)"
   ]
  },
  {
   "cell_type": "code",
   "execution_count": 142,
   "metadata": {},
   "outputs": [
    {
     "data": {
      "image/png": "[encoded data removed]",
      "text/plain": [
       "<Figure size 432x288 with 1 Axes>"
      ]
     },
     "metadata": {
      "needs_background": "light"
     },
     "output_type": "display_data"
    }
   ],
   "source": [
    "simulated_test_interactor.show_plot(image_name=\"energy_levels_simulated.png\")"
   ]
  },
  {
   "cell_type": "code",
   "execution_count": null,
   "metadata": {},
   "outputs": [],
   "source": []
  }
 ],
 "metadata": {
  "kernelspec": {
   "display_name": "Python 3",
   "language": "python",
   "name": "python3"
  },
  "language_info": {
   "codemirror_mode": {
    "name": "ipython",
    "version": 3
   },
   "file_extension": ".py",
   "mimetype": "text/x-python",
   "name": "python",
   "nbconvert_exporter": "python",
   "pygments_lexer": "ipython3",
   "version": "3.8.5"
  }
 },
 "nbformat": 4,
 "nbformat_minor": 4
}
